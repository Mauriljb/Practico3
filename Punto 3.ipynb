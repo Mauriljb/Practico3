{
 "cells": [
  {
   "cell_type": "markdown",
   "metadata": {},
   "source": [
    "Punto 3) Estudie la distribución de tipos morfológicos y determine si la misma es consistente con una distribución\n",
    "uniforme."
   ]
  },
  {
   "cell_type": "code",
   "execution_count": 1,
   "metadata": {},
   "outputs": [],
   "source": [
    "import pandas as pd\n",
    "import math\n",
    "import numpy as np\n",
    "from scipy import stats\n",
    "import matplotlib.pyplot as plt"
   ]
  },
  {
   "cell_type": "code",
   "execution_count": 2,
   "metadata": {},
   "outputs": [
    {
     "data": {
      "text/html": [
       "<div>\n",
       "<style scoped>\n",
       "    .dataframe tbody tr th:only-of-type {\n",
       "        vertical-align: middle;\n",
       "    }\n",
       "\n",
       "    .dataframe tbody tr th {\n",
       "        vertical-align: top;\n",
       "    }\n",
       "\n",
       "    .dataframe thead th {\n",
       "        text-align: right;\n",
       "    }\n",
       "</style>\n",
       "<table border=\"1\" class=\"dataframe\">\n",
       "  <thead>\n",
       "    <tr style=\"text-align: right;\">\n",
       "      <th></th>\n",
       "      <th>objID</th>\n",
       "      <th>z</th>\n",
       "      <th>petromag_g</th>\n",
       "      <th>petromag_u</th>\n",
       "      <th>petromag_r</th>\n",
       "      <th>elliptical</th>\n",
       "      <th>spiral</th>\n",
       "    </tr>\n",
       "  </thead>\n",
       "  <tbody>\n",
       "    <tr>\n",
       "      <th>count</th>\n",
       "      <td>9.219100e+04</td>\n",
       "      <td>92191.000000</td>\n",
       "      <td>92191.000000</td>\n",
       "      <td>92191.000000</td>\n",
       "      <td>92191.000000</td>\n",
       "      <td>92191.000000</td>\n",
       "      <td>92191.000000</td>\n",
       "    </tr>\n",
       "    <tr>\n",
       "      <th>mean</th>\n",
       "      <td>1.237662e+18</td>\n",
       "      <td>0.053296</td>\n",
       "      <td>16.735594</td>\n",
       "      <td>18.236175</td>\n",
       "      <td>16.284832</td>\n",
       "      <td>0.173466</td>\n",
       "      <td>0.826534</td>\n",
       "    </tr>\n",
       "    <tr>\n",
       "      <th>std</th>\n",
       "      <td>5.770257e+12</td>\n",
       "      <td>0.018121</td>\n",
       "      <td>46.661421</td>\n",
       "      <td>46.671759</td>\n",
       "      <td>1.010880</td>\n",
       "      <td>0.378652</td>\n",
       "      <td>0.378652</td>\n",
       "    </tr>\n",
       "    <tr>\n",
       "      <th>min</th>\n",
       "      <td>1.237646e+18</td>\n",
       "      <td>-0.004136</td>\n",
       "      <td>-9999.000000</td>\n",
       "      <td>-9999.000000</td>\n",
       "      <td>11.596510</td>\n",
       "      <td>0.000000</td>\n",
       "      <td>0.000000</td>\n",
       "    </tr>\n",
       "    <tr>\n",
       "      <th>25%</th>\n",
       "      <td>1.237658e+18</td>\n",
       "      <td>0.038364</td>\n",
       "      <td>16.330710</td>\n",
       "      <td>17.794660</td>\n",
       "      <td>15.633810</td>\n",
       "      <td>0.000000</td>\n",
       "      <td>1.000000</td>\n",
       "    </tr>\n",
       "    <tr>\n",
       "      <th>50%</th>\n",
       "      <td>1.237662e+18</td>\n",
       "      <td>0.055473</td>\n",
       "      <td>17.064680</td>\n",
       "      <td>18.483310</td>\n",
       "      <td>16.409320</td>\n",
       "      <td>0.000000</td>\n",
       "      <td>1.000000</td>\n",
       "    </tr>\n",
       "    <tr>\n",
       "      <th>75%</th>\n",
       "      <td>1.237666e+18</td>\n",
       "      <td>0.069375</td>\n",
       "      <td>17.709465</td>\n",
       "      <td>19.126415</td>\n",
       "      <td>17.082950</td>\n",
       "      <td>0.000000</td>\n",
       "      <td>1.000000</td>\n",
       "    </tr>\n",
       "    <tr>\n",
       "      <th>max</th>\n",
       "      <td>1.237680e+18</td>\n",
       "      <td>0.080000</td>\n",
       "      <td>30.031850</td>\n",
       "      <td>40.258520</td>\n",
       "      <td>22.071080</td>\n",
       "      <td>1.000000</td>\n",
       "      <td>1.000000</td>\n",
       "    </tr>\n",
       "  </tbody>\n",
       "</table>\n",
       "</div>"
      ],
      "text/plain": [
       "              objID             z    petromag_g    petromag_u    petromag_r  \\\n",
       "count  9.219100e+04  92191.000000  92191.000000  92191.000000  92191.000000   \n",
       "mean   1.237662e+18      0.053296     16.735594     18.236175     16.284832   \n",
       "std    5.770257e+12      0.018121     46.661421     46.671759      1.010880   \n",
       "min    1.237646e+18     -0.004136  -9999.000000  -9999.000000     11.596510   \n",
       "25%    1.237658e+18      0.038364     16.330710     17.794660     15.633810   \n",
       "50%    1.237662e+18      0.055473     17.064680     18.483310     16.409320   \n",
       "75%    1.237666e+18      0.069375     17.709465     19.126415     17.082950   \n",
       "max    1.237680e+18      0.080000     30.031850     40.258520     22.071080   \n",
       "\n",
       "         elliptical        spiral  \n",
       "count  92191.000000  92191.000000  \n",
       "mean       0.173466      0.826534  \n",
       "std        0.378652      0.378652  \n",
       "min        0.000000      0.000000  \n",
       "25%        0.000000      1.000000  \n",
       "50%        0.000000      1.000000  \n",
       "75%        0.000000      1.000000  \n",
       "max        1.000000      1.000000  "
      ]
     },
     "execution_count": 2,
     "metadata": {},
     "output_type": "execute_result"
    }
   ],
   "source": [
    "gal=pd.read_csv('galaxias.csv')\n",
    "gal.head()\n",
    "gal.describe()"
   ]
  },
  {
   "cell_type": "code",
   "execution_count": 3,
   "metadata": {},
   "outputs": [
    {
     "data": {
      "text/html": [
       "<div>\n",
       "<style scoped>\n",
       "    .dataframe tbody tr th:only-of-type {\n",
       "        vertical-align: middle;\n",
       "    }\n",
       "\n",
       "    .dataframe tbody tr th {\n",
       "        vertical-align: top;\n",
       "    }\n",
       "\n",
       "    .dataframe thead th {\n",
       "        text-align: right;\n",
       "    }\n",
       "</style>\n",
       "<table border=\"1\" class=\"dataframe\">\n",
       "  <thead>\n",
       "    <tr style=\"text-align: right;\">\n",
       "      <th></th>\n",
       "      <th>objID</th>\n",
       "      <th>z</th>\n",
       "      <th>petromag_g</th>\n",
       "      <th>petromag_u</th>\n",
       "      <th>petromag_r</th>\n",
       "      <th>elliptical</th>\n",
       "      <th>spiral</th>\n",
       "    </tr>\n",
       "  </thead>\n",
       "  <tbody>\n",
       "    <tr>\n",
       "      <th>count</th>\n",
       "      <td>9.218900e+04</td>\n",
       "      <td>92189.000000</td>\n",
       "      <td>92189.000000</td>\n",
       "      <td>92189.000000</td>\n",
       "      <td>92189.000000</td>\n",
       "      <td>92189.000000</td>\n",
       "      <td>92189.000000</td>\n",
       "    </tr>\n",
       "    <tr>\n",
       "      <th>mean</th>\n",
       "      <td>1.237662e+18</td>\n",
       "      <td>0.053295</td>\n",
       "      <td>16.952881</td>\n",
       "      <td>18.453494</td>\n",
       "      <td>16.284809</td>\n",
       "      <td>0.173470</td>\n",
       "      <td>0.826530</td>\n",
       "    </tr>\n",
       "    <tr>\n",
       "      <th>std</th>\n",
       "      <td>5.770004e+12</td>\n",
       "      <td>0.018121</td>\n",
       "      <td>0.987690</td>\n",
       "      <td>1.134976</td>\n",
       "      <td>1.010880</td>\n",
       "      <td>0.378655</td>\n",
       "      <td>0.378655</td>\n",
       "    </tr>\n",
       "    <tr>\n",
       "      <th>min</th>\n",
       "      <td>1.237646e+18</td>\n",
       "      <td>-0.004136</td>\n",
       "      <td>12.537240</td>\n",
       "      <td>12.840760</td>\n",
       "      <td>11.596510</td>\n",
       "      <td>0.000000</td>\n",
       "      <td>0.000000</td>\n",
       "    </tr>\n",
       "    <tr>\n",
       "      <th>25%</th>\n",
       "      <td>1.237658e+18</td>\n",
       "      <td>0.038364</td>\n",
       "      <td>16.330740</td>\n",
       "      <td>17.794690</td>\n",
       "      <td>15.633790</td>\n",
       "      <td>0.000000</td>\n",
       "      <td>1.000000</td>\n",
       "    </tr>\n",
       "    <tr>\n",
       "      <th>50%</th>\n",
       "      <td>1.237662e+18</td>\n",
       "      <td>0.055472</td>\n",
       "      <td>17.064690</td>\n",
       "      <td>18.483330</td>\n",
       "      <td>16.409230</td>\n",
       "      <td>0.000000</td>\n",
       "      <td>1.000000</td>\n",
       "    </tr>\n",
       "    <tr>\n",
       "      <th>75%</th>\n",
       "      <td>1.237666e+18</td>\n",
       "      <td>0.069375</td>\n",
       "      <td>17.709470</td>\n",
       "      <td>19.126430</td>\n",
       "      <td>17.082940</td>\n",
       "      <td>0.000000</td>\n",
       "      <td>1.000000</td>\n",
       "    </tr>\n",
       "    <tr>\n",
       "      <th>max</th>\n",
       "      <td>1.237680e+18</td>\n",
       "      <td>0.080000</td>\n",
       "      <td>30.031850</td>\n",
       "      <td>40.258520</td>\n",
       "      <td>22.071080</td>\n",
       "      <td>1.000000</td>\n",
       "      <td>1.000000</td>\n",
       "    </tr>\n",
       "  </tbody>\n",
       "</table>\n",
       "</div>"
      ],
      "text/plain": [
       "              objID             z    petromag_g    petromag_u    petromag_r  \\\n",
       "count  9.218900e+04  92189.000000  92189.000000  92189.000000  92189.000000   \n",
       "mean   1.237662e+18      0.053295     16.952881     18.453494     16.284809   \n",
       "std    5.770004e+12      0.018121      0.987690      1.134976      1.010880   \n",
       "min    1.237646e+18     -0.004136     12.537240     12.840760     11.596510   \n",
       "25%    1.237658e+18      0.038364     16.330740     17.794690     15.633790   \n",
       "50%    1.237662e+18      0.055472     17.064690     18.483330     16.409230   \n",
       "75%    1.237666e+18      0.069375     17.709470     19.126430     17.082940   \n",
       "max    1.237680e+18      0.080000     30.031850     40.258520     22.071080   \n",
       "\n",
       "         elliptical        spiral  \n",
       "count  92189.000000  92189.000000  \n",
       "mean       0.173470      0.826530  \n",
       "std        0.378655      0.378655  \n",
       "min        0.000000      0.000000  \n",
       "25%        0.000000      1.000000  \n",
       "50%        0.000000      1.000000  \n",
       "75%        0.000000      1.000000  \n",
       "max        1.000000      1.000000  "
      ]
     },
     "execution_count": 3,
     "metadata": {},
     "output_type": "execute_result"
    }
   ],
   "source": [
    "gal = gal.drop(gal[gal['petromag_g']==-9999.00000].index)\n",
    "gal.describe()"
   ]
  },
  {
   "cell_type": "code",
   "execution_count": 4,
   "metadata": {},
   "outputs": [
    {
     "data": {
      "image/png": "[encoded data removed]",
      "text/plain": [
       "<Figure size 432x288 with 1 Axes>"
      ]
     },
     "metadata": {
      "needs_background": "light"
     },
     "output_type": "display_data"
    }
   ],
   "source": [
    "plt.scatter(gal.petromag_g,gal.petromag_r);"
   ]
  },
  {
   "cell_type": "code",
   "execution_count": 5,
   "metadata": {},
   "outputs": [],
   "source": [
    "def lineal(x,y):\n",
    "    x=np.array(x)\n",
    "    y=np.array(y)\n",
    "    if (len(x)!=len(y)):\n",
    "        print('Error, x e y no tienen la misma longitud')\n",
    "    else:\n",
    "        n=len(x)\n",
    "        a=(n*sum(x*y,0)-sum(x,0)*sum(y,0)/(n*sum(x*x,0)-sum(x,0))**2)\n",
    "        b=sum(y,0)-a*sum(x,0)/n\n",
    "        xm=sum(x)/n\n",
    "        ym=sum(y)/n\n",
    "        num=sum((x-xm)*(y-ym),0)\n",
    "        dem=(((sum((x-xm)**2,0))**0.5)*((sum((y-ym)**2,0))**0.5))\n",
    "        r=num/dem\n",
    "    return(a,b,r)"
   ]
  },
  {
   "cell_type": "code",
   "execution_count": 6,
   "metadata": {},
   "outputs": [
    {
     "name": "stdout",
     "output_type": "stream",
     "text": [
      "2354580455699.2427 -39916920386538.98 0.9753086862135517\n"
     ]
    }
   ],
   "source": [
    "a,b,r=lineal(gal.petromag_g,gal.petromag_r)\n",
    "print(a,b,r)"
   ]
  },
  {
   "cell_type": "code",
   "execution_count": 7,
   "metadata": {},
   "outputs": [
    {
     "name": "stdout",
     "output_type": "stream",
     "text": [
      "[ 0.99820786 -0.6376901 ]\n"
     ]
    }
   ],
   "source": [
    "z=np.array(gal.petromag_g)\n",
    "q=np.array(gal.petromag_r)\n",
    "e=np.polyfit(z,q,1)\n",
    "print(e)"
   ]
  },
  {
   "cell_type": "code",
   "execution_count": 8,
   "metadata": {},
   "outputs": [
    {
     "data": {
      "image/png": "[encoded data removed]",
      "text/plain": [
       "<Figure size 432x288 with 1 Axes>"
      ]
     },
     "metadata": {
      "needs_background": "light"
     },
     "output_type": "display_data"
    }
   ],
   "source": [
    "y_ajuste = e[0]*z + e[1]\n",
    "\n",
    "# Dibujamos los datos experimentales\n",
    "p_datos, = plt.plot(z, q, 'b.')\n",
    "# Dibujamos la recta de ajuste\n",
    "p_ajuste, = plt.plot(z, y_ajuste, 'r-')\n",
    "\n",
    "plt.title('Ajuste lineal por minimos cuadrados')\n",
    "\n",
    "plt.xlabel('Eje X')\n",
    "plt.ylabel('Eje Y')\n",
    "\n",
    "plt.legend(('Datos experimentales', 'Ajuste lineal'), loc=\"upper left\")\n",
    "plt.show()"
   ]
  },
  {
   "cell_type": "code",
   "execution_count": 19,
   "metadata": {},
   "outputs": [],
   "source": [
    "np.polyfit?"
   ]
  },
  {
   "cell_type": "code",
   "execution_count": null,
   "metadata": {},
   "outputs": [],
   "source": []
  }
 ],
 "metadata": {
  "kernelspec": {
   "display_name": "Python 3",
   "language": "python",
   "name": "python3"
  },
  "language_info": {
   "codemirror_mode": {
    "name": "ipython",
    "version": 3
   },
   "file_extension": ".py",
   "mimetype": "text/x-python",
   "name": "python",
   "nbconvert_exporter": "python",
   "pygments_lexer": "ipython3",
   "version": "3.7.3"
  }
 },
 "nbformat": 4,
 "nbformat_minor": 2
}
