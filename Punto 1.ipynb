{
 "cells": [
  {
   "cell_type": "markdown",
   "metadata": {},
   "source": [
    "Punto 1) Estudie la distribución de ı́ndices de color g-r y u-g para galaxias elı́pticas y espirales. Determinar si para ambos casos las distribuciones con consistentes. Discuta la validez de la forma de la distribución propuesta para el estadı́stico de la prueba."
   ]
  },
  {
   "cell_type": "code",
   "execution_count": 12,
   "metadata": {},
   "outputs": [],
   "source": [
    "import pandas as pd\n",
    "import math\n",
    "import numpy as np\n",
    "from scipy import stats\n",
    "import matplotlib.pyplot as plt"
   ]
  },
  {
   "cell_type": "code",
   "execution_count": 13,
   "metadata": {},
   "outputs": [],
   "source": [
    "galel=pd.read_csv('galaxias.csv')\n",
    "gales=pd.read_csv('galaxias.csv')"
   ]
  },
  {
   "cell_type": "code",
   "execution_count": 14,
   "metadata": {},
   "outputs": [
    {
     "data": {
      "text/html": [
       "<div>\n",
       "<style scoped>\n",
       "    .dataframe tbody tr th:only-of-type {\n",
       "        vertical-align: middle;\n",
       "    }\n",
       "\n",
       "    .dataframe tbody tr th {\n",
       "        vertical-align: top;\n",
       "    }\n",
       "\n",
       "    .dataframe thead th {\n",
       "        text-align: right;\n",
       "    }\n",
       "</style>\n",
       "<table border=\"1\" class=\"dataframe\">\n",
       "  <thead>\n",
       "    <tr style=\"text-align: right;\">\n",
       "      <th></th>\n",
       "      <th>objID</th>\n",
       "      <th>z</th>\n",
       "      <th>petromag_g</th>\n",
       "      <th>petromag_u</th>\n",
       "      <th>petromag_r</th>\n",
       "      <th>elliptical</th>\n",
       "      <th>spiral</th>\n",
       "    </tr>\n",
       "  </thead>\n",
       "  <tbody>\n",
       "    <tr>\n",
       "      <th>0</th>\n",
       "      <td>1237652629094793332</td>\n",
       "      <td>0.065605</td>\n",
       "      <td>17.65391</td>\n",
       "      <td>19.46875</td>\n",
       "      <td>16.63522</td>\n",
       "      <td>0</td>\n",
       "      <td>1</td>\n",
       "    </tr>\n",
       "    <tr>\n",
       "      <th>1</th>\n",
       "      <td>1237652629631598663</td>\n",
       "      <td>0.067957</td>\n",
       "      <td>17.65186</td>\n",
       "      <td>18.85089</td>\n",
       "      <td>17.05311</td>\n",
       "      <td>0</td>\n",
       "      <td>1</td>\n",
       "    </tr>\n",
       "    <tr>\n",
       "      <th>2</th>\n",
       "      <td>1237652629631467677</td>\n",
       "      <td>0.079620</td>\n",
       "      <td>15.93773</td>\n",
       "      <td>17.56484</td>\n",
       "      <td>15.01872</td>\n",
       "      <td>1</td>\n",
       "      <td>0</td>\n",
       "    </tr>\n",
       "    <tr>\n",
       "      <th>3</th>\n",
       "      <td>1237652900744200340</td>\n",
       "      <td>0.067485</td>\n",
       "      <td>17.37585</td>\n",
       "      <td>19.11767</td>\n",
       "      <td>16.46439</td>\n",
       "      <td>0</td>\n",
       "      <td>1</td>\n",
       "    </tr>\n",
       "    <tr>\n",
       "      <th>4</th>\n",
       "      <td>1237652901818204282</td>\n",
       "      <td>0.068850</td>\n",
       "      <td>17.28031</td>\n",
       "      <td>18.77209</td>\n",
       "      <td>16.58610</td>\n",
       "      <td>0</td>\n",
       "      <td>1</td>\n",
       "    </tr>\n",
       "  </tbody>\n",
       "</table>\n",
       "</div>"
      ],
      "text/plain": [
       "                 objID         z  petromag_g  petromag_u  petromag_r  \\\n",
       "0  1237652629094793332  0.065605    17.65391    19.46875    16.63522   \n",
       "1  1237652629631598663  0.067957    17.65186    18.85089    17.05311   \n",
       "2  1237652629631467677  0.079620    15.93773    17.56484    15.01872   \n",
       "3  1237652900744200340  0.067485    17.37585    19.11767    16.46439   \n",
       "4  1237652901818204282  0.068850    17.28031    18.77209    16.58610   \n",
       "\n",
       "   elliptical  spiral  \n",
       "0           0       1  \n",
       "1           0       1  \n",
       "2           1       0  \n",
       "3           0       1  \n",
       "4           0       1  "
      ]
     },
     "execution_count": 14,
     "metadata": {},
     "output_type": "execute_result"
    }
   ],
   "source": [
    "galel = galel.drop(galel[galel['petromag_g']==-9999.00000].index)\n",
    "gales = gales.drop(gales[gales['petromag_g']==-9999.00000].index)\n",
    "galel.head()"
   ]
  },
  {
   "cell_type": "code",
   "execution_count": 15,
   "metadata": {},
   "outputs": [],
   "source": [
    "galel = galel.drop(galel[galel['elliptical']==0].index)\n",
    "gales = gales.drop(gales[gales['spiral']==0].index)"
   ]
  },
  {
   "cell_type": "code",
   "execution_count": 17,
   "metadata": {},
   "outputs": [],
   "source": [
    "esu=np.array(gales.petromag_u)\n",
    "esr=np.array(gales.petromag_r)\n",
    "esg=np.array(gales.petromag_g)\n",
    "elu=np.array(galel.petromag_u)\n",
    "elr=np.array(galel.petromag_r)\n",
    "elg=np.array(galel.petromag_g)\n",
    "esug=esu-esg\n",
    "esgr=esg-esr\n",
    "elug=elu-elg\n",
    "elgr=elg-elr"
   ]
  },
  {
   "cell_type": "code",
   "execution_count": 18,
   "metadata": {},
   "outputs": [
    {
     "data": {
      "image/png": "[encoded data removed]",
      "text/plain": [
       "<Figure size 432x288 with 1 Axes>"
      ]
     },
     "metadata": {
      "needs_background": "light"
     },
     "output_type": "display_data"
    }
   ],
   "source": [
    "plt.hist(esug,300)\n",
    "plt.hist(esgr,300)\n",
    "plt.xlim(0,4);"
   ]
  },
  {
   "cell_type": "code",
   "execution_count": 19,
   "metadata": {},
   "outputs": [
    {
     "data": {
      "image/png": "[encoded data removed]",
      "text/plain": [
       "<Figure size 432x288 with 1 Axes>"
      ]
     },
     "metadata": {
      "needs_background": "light"
     },
     "output_type": "display_data"
    }
   ],
   "source": [
    "plt.hist(elug,300)\n",
    "plt.hist(elgr,300)\n",
    "plt.xlim(0,4);"
   ]
  },
  {
   "cell_type": "code",
   "execution_count": 25,
   "metadata": {},
   "outputs": [
    {
     "data": {
      "text/plain": [
       "Ks_2sampResult(statistic=0.9868684342171086, pvalue=0.0)"
      ]
     },
     "execution_count": 25,
     "metadata": {},
     "output_type": "execute_result"
    }
   ],
   "source": [
    "stats.ks_2samp(elug, elgr, alternative='two-sided')"
   ]
  },
  {
   "cell_type": "code",
   "execution_count": 26,
   "metadata": {},
   "outputs": [
    {
     "data": {
      "text/plain": [
       "Ks_2sampResult(statistic=0.9222410331115398, pvalue=0.0)"
      ]
     },
     "execution_count": 26,
     "metadata": {},
     "output_type": "execute_result"
    }
   ],
   "source": [
    "stats.ks_2samp(esug, esgr, alternative='two-sided')"
   ]
  },
  {
   "cell_type": "markdown",
   "metadata": {},
   "source": [
    "Por el valor obtenido para ambas comparaciones tenemos que el valor p da practicamente cero, que es menor al alfa tomado como 0.05, por lo que en ambos casos se rechaza la hipotesis nula y ambas distribuciones son distintas para los dos tipos morfologicos de galaxias."
   ]
  },
  {
   "cell_type": "code",
   "execution_count": null,
   "metadata": {},
   "outputs": [],
   "source": []
  }
 ],
 "metadata": {
  "kernelspec": {
   "display_name": "Python 3",
   "language": "python",
   "name": "python3"
  },
  "language_info": {
   "codemirror_mode": {
    "name": "ipython",
    "version": 3
   },
   "file_extension": ".py",
   "mimetype": "text/x-python",
   "name": "python",
   "nbconvert_exporter": "python",
   "pygments_lexer": "ipython3",
   "version": "3.7.3"
  }
 },
 "nbformat": 4,
 "nbformat_minor": 2
}
